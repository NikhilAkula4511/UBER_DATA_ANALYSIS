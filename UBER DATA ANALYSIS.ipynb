{
 "cells": [
  {
   "cell_type": "markdown",
   "id": "b34c5766",
   "metadata": {},
   "source": [
    "## IMPORTING NECESSARY LIBRARIES"
   ]
  },
  {
   "cell_type": "code",
   "execution_count": 80,
   "id": "0e6f2bb4",
   "metadata": {},
   "outputs": [],
   "source": [
    "import numpy as np\n",
    "import pandas as pd\n",
    "import matplotlib.pyplot as plt\n",
    "import seaborn as sns\n",
    "import warnings\n",
    "warnings.filterwarnings('ignore')"
   ]
  },
  {
   "cell_type": "markdown",
   "id": "82d49c36",
   "metadata": {},
   "source": [
    "## LOAD THE DATASET INTO THE NOTEBOOK"
   ]
  },
  {
   "cell_type": "code",
   "execution_count": 81,
   "id": "1c85ffc9",
   "metadata": {},
   "outputs": [],
   "source": [
    "df = pd.read_csv(r'C:\\Users\\nikhil\\Downloads\\uber_rides_data.xlsx - sample_train.csv')"
   ]
  },
  {
   "cell_type": "code",
   "execution_count": 82,
   "id": "eb8a311f",
   "metadata": {},
   "outputs": [
    {
     "data": {
      "text/html": [
       "<div>\n",
       "<style scoped>\n",
       "    .dataframe tbody tr th:only-of-type {\n",
       "        vertical-align: middle;\n",
       "    }\n",
       "\n",
       "    .dataframe tbody tr th {\n",
       "        vertical-align: top;\n",
       "    }\n",
       "\n",
       "    .dataframe thead th {\n",
       "        text-align: right;\n",
       "    }\n",
       "</style>\n",
       "<table border=\"1\" class=\"dataframe\">\n",
       "  <thead>\n",
       "    <tr style=\"text-align: right;\">\n",
       "      <th></th>\n",
       "      <th>ride_id</th>\n",
       "      <th>fare_amount</th>\n",
       "      <th>pickup_datetime</th>\n",
       "      <th>pickup_longitude</th>\n",
       "      <th>pickup_latitude</th>\n",
       "      <th>dropoff_longitude</th>\n",
       "      <th>dropoff_latitude</th>\n",
       "      <th>passenger_count</th>\n",
       "    </tr>\n",
       "  </thead>\n",
       "  <tbody>\n",
       "    <tr>\n",
       "      <th>0</th>\n",
       "      <td>24238194</td>\n",
       "      <td>7.5</td>\n",
       "      <td>2015-05-07 19:52:06 UTC</td>\n",
       "      <td>-73.999817</td>\n",
       "      <td>40.738354</td>\n",
       "      <td>-73.999512</td>\n",
       "      <td>40.723217</td>\n",
       "      <td>1</td>\n",
       "    </tr>\n",
       "    <tr>\n",
       "      <th>1</th>\n",
       "      <td>27835199</td>\n",
       "      <td>7.7</td>\n",
       "      <td>2009-07-17 20:04:56 UTC</td>\n",
       "      <td>-73.994355</td>\n",
       "      <td>40.728225</td>\n",
       "      <td>-73.994710</td>\n",
       "      <td>40.750325</td>\n",
       "      <td>1</td>\n",
       "    </tr>\n",
       "    <tr>\n",
       "      <th>2</th>\n",
       "      <td>44984355</td>\n",
       "      <td>12.9</td>\n",
       "      <td>2009-08-24 21:45:00 UTC</td>\n",
       "      <td>-74.005043</td>\n",
       "      <td>40.740770</td>\n",
       "      <td>-73.962565</td>\n",
       "      <td>40.772647</td>\n",
       "      <td>1</td>\n",
       "    </tr>\n",
       "    <tr>\n",
       "      <th>3</th>\n",
       "      <td>25894730</td>\n",
       "      <td>5.3</td>\n",
       "      <td>2009-06-26 08:22:21 UTC</td>\n",
       "      <td>-73.976124</td>\n",
       "      <td>40.790844</td>\n",
       "      <td>-73.965316</td>\n",
       "      <td>40.803349</td>\n",
       "      <td>3</td>\n",
       "    </tr>\n",
       "    <tr>\n",
       "      <th>4</th>\n",
       "      <td>17610152</td>\n",
       "      <td>16.0</td>\n",
       "      <td>2014-08-28 17:47:00 UTC</td>\n",
       "      <td>-73.925023</td>\n",
       "      <td>40.744085</td>\n",
       "      <td>-73.973082</td>\n",
       "      <td>40.761247</td>\n",
       "      <td>5</td>\n",
       "    </tr>\n",
       "    <tr>\n",
       "      <th>...</th>\n",
       "      <td>...</td>\n",
       "      <td>...</td>\n",
       "      <td>...</td>\n",
       "      <td>...</td>\n",
       "      <td>...</td>\n",
       "      <td>...</td>\n",
       "      <td>...</td>\n",
       "      <td>...</td>\n",
       "    </tr>\n",
       "    <tr>\n",
       "      <th>199995</th>\n",
       "      <td>42598914</td>\n",
       "      <td>3.0</td>\n",
       "      <td>2012-10-28 10:49:00 UTC</td>\n",
       "      <td>-73.987042</td>\n",
       "      <td>40.739367</td>\n",
       "      <td>-73.986525</td>\n",
       "      <td>40.740297</td>\n",
       "      <td>1</td>\n",
       "    </tr>\n",
       "    <tr>\n",
       "      <th>199996</th>\n",
       "      <td>16382965</td>\n",
       "      <td>7.5</td>\n",
       "      <td>2014-03-14 01:09:00 UTC</td>\n",
       "      <td>-73.984722</td>\n",
       "      <td>40.736837</td>\n",
       "      <td>-74.006672</td>\n",
       "      <td>40.739620</td>\n",
       "      <td>1</td>\n",
       "    </tr>\n",
       "    <tr>\n",
       "      <th>199997</th>\n",
       "      <td>27804658</td>\n",
       "      <td>30.9</td>\n",
       "      <td>2009-06-29 00:42:00 UTC</td>\n",
       "      <td>-73.986017</td>\n",
       "      <td>40.756487</td>\n",
       "      <td>-73.858957</td>\n",
       "      <td>40.692588</td>\n",
       "      <td>2</td>\n",
       "    </tr>\n",
       "    <tr>\n",
       "      <th>199998</th>\n",
       "      <td>20259894</td>\n",
       "      <td>14.5</td>\n",
       "      <td>2015-05-20 14:56:25 UTC</td>\n",
       "      <td>-73.997124</td>\n",
       "      <td>40.725452</td>\n",
       "      <td>-73.983215</td>\n",
       "      <td>40.695416</td>\n",
       "      <td>1</td>\n",
       "    </tr>\n",
       "    <tr>\n",
       "      <th>199999</th>\n",
       "      <td>11951496</td>\n",
       "      <td>14.1</td>\n",
       "      <td>2010-05-15 04:08:00 UTC</td>\n",
       "      <td>-73.984395</td>\n",
       "      <td>40.720077</td>\n",
       "      <td>-73.985508</td>\n",
       "      <td>40.768793</td>\n",
       "      <td>1</td>\n",
       "    </tr>\n",
       "  </tbody>\n",
       "</table>\n",
       "<p>200000 rows × 8 columns</p>\n",
       "</div>"
      ],
      "text/plain": [
       "         ride_id  fare_amount          pickup_datetime  pickup_longitude  \\\n",
       "0       24238194          7.5  2015-05-07 19:52:06 UTC        -73.999817   \n",
       "1       27835199          7.7  2009-07-17 20:04:56 UTC        -73.994355   \n",
       "2       44984355         12.9  2009-08-24 21:45:00 UTC        -74.005043   \n",
       "3       25894730          5.3  2009-06-26 08:22:21 UTC        -73.976124   \n",
       "4       17610152         16.0  2014-08-28 17:47:00 UTC        -73.925023   \n",
       "...          ...          ...                      ...               ...   \n",
       "199995  42598914          3.0  2012-10-28 10:49:00 UTC        -73.987042   \n",
       "199996  16382965          7.5  2014-03-14 01:09:00 UTC        -73.984722   \n",
       "199997  27804658         30.9  2009-06-29 00:42:00 UTC        -73.986017   \n",
       "199998  20259894         14.5  2015-05-20 14:56:25 UTC        -73.997124   \n",
       "199999  11951496         14.1  2010-05-15 04:08:00 UTC        -73.984395   \n",
       "\n",
       "        pickup_latitude  dropoff_longitude  dropoff_latitude  passenger_count  \n",
       "0             40.738354         -73.999512         40.723217                1  \n",
       "1             40.728225         -73.994710         40.750325                1  \n",
       "2             40.740770         -73.962565         40.772647                1  \n",
       "3             40.790844         -73.965316         40.803349                3  \n",
       "4             40.744085         -73.973082         40.761247                5  \n",
       "...                 ...                ...               ...              ...  \n",
       "199995        40.739367         -73.986525         40.740297                1  \n",
       "199996        40.736837         -74.006672         40.739620                1  \n",
       "199997        40.756487         -73.858957         40.692588                2  \n",
       "199998        40.725452         -73.983215         40.695416                1  \n",
       "199999        40.720077         -73.985508         40.768793                1  \n",
       "\n",
       "[200000 rows x 8 columns]"
      ]
     },
     "execution_count": 82,
     "metadata": {},
     "output_type": "execute_result"
    }
   ],
   "source": [
    "df"
   ]
  },
  {
   "cell_type": "code",
   "execution_count": 83,
   "id": "b290c414",
   "metadata": {},
   "outputs": [
    {
     "name": "stdout",
     "output_type": "stream",
     "text": [
      "<class 'pandas.core.frame.DataFrame'>\n",
      "RangeIndex: 200000 entries, 0 to 199999\n",
      "Data columns (total 8 columns):\n",
      " #   Column             Non-Null Count   Dtype  \n",
      "---  ------             --------------   -----  \n",
      " 0   ride_id            200000 non-null  int64  \n",
      " 1   fare_amount        200000 non-null  float64\n",
      " 2   pickup_datetime    200000 non-null  object \n",
      " 3   pickup_longitude   200000 non-null  float64\n",
      " 4   pickup_latitude    200000 non-null  float64\n",
      " 5   dropoff_longitude  199999 non-null  float64\n",
      " 6   dropoff_latitude   199999 non-null  float64\n",
      " 7   passenger_count    200000 non-null  int64  \n",
      "dtypes: float64(5), int64(2), object(1)\n",
      "memory usage: 12.2+ MB\n"
     ]
    }
   ],
   "source": [
    "df.info()"
   ]
  },
  {
   "cell_type": "markdown",
   "id": "c4a201a5",
   "metadata": {},
   "source": [
    "    From above we concluded that Integer valued columns are 2,float64 are 5 and object is one i.e. pickup datetime"
   ]
  },
  {
   "cell_type": "markdown",
   "id": "d64544b9",
   "metadata": {},
   "source": [
    "#### Find the no of null values in each column"
   ]
  },
  {
   "cell_type": "code",
   "execution_count": 84,
   "id": "05b586b7",
   "metadata": {},
   "outputs": [
    {
     "data": {
      "text/plain": [
       "ride_id              0\n",
       "fare_amount          0\n",
       "pickup_datetime      0\n",
       "pickup_longitude     0\n",
       "pickup_latitude      0\n",
       "dropoff_longitude    1\n",
       "dropoff_latitude     1\n",
       "passenger_count      0\n",
       "dtype: int64"
      ]
     },
     "execution_count": 84,
     "metadata": {},
     "output_type": "execute_result"
    }
   ],
   "source": [
    "df.isna().sum()"
   ]
  },
  {
   "cell_type": "markdown",
   "id": "24941a85",
   "metadata": {},
   "source": [
    "    dropoff_longitude,dropoff_latitude are contains null values and no of null values in both columns are 1"
   ]
  },
  {
   "cell_type": "markdown",
   "id": "e55d8182",
   "metadata": {},
   "source": [
    "## Drop the null values in the data"
   ]
  },
  {
   "cell_type": "code",
   "execution_count": 87,
   "id": "562c145c",
   "metadata": {},
   "outputs": [],
   "source": [
    "df.dropna(inplace=True)"
   ]
  },
  {
   "cell_type": "markdown",
   "id": "67445d51",
   "metadata": {},
   "source": [
    "  ### Describe the data to find max,min,count and standard deviation and quartile ranges"
   ]
  },
  {
   "cell_type": "code",
   "execution_count": 88,
   "id": "75e49b27",
   "metadata": {},
   "outputs": [
    {
     "data": {
      "text/html": [
       "<div>\n",
       "<style scoped>\n",
       "    .dataframe tbody tr th:only-of-type {\n",
       "        vertical-align: middle;\n",
       "    }\n",
       "\n",
       "    .dataframe tbody tr th {\n",
       "        vertical-align: top;\n",
       "    }\n",
       "\n",
       "    .dataframe thead th {\n",
       "        text-align: right;\n",
       "    }\n",
       "</style>\n",
       "<table border=\"1\" class=\"dataframe\">\n",
       "  <thead>\n",
       "    <tr style=\"text-align: right;\">\n",
       "      <th></th>\n",
       "      <th>ride_id</th>\n",
       "      <th>fare_amount</th>\n",
       "      <th>pickup_longitude</th>\n",
       "      <th>pickup_latitude</th>\n",
       "      <th>dropoff_longitude</th>\n",
       "      <th>dropoff_latitude</th>\n",
       "      <th>passenger_count</th>\n",
       "    </tr>\n",
       "  </thead>\n",
       "  <tbody>\n",
       "    <tr>\n",
       "      <th>count</th>\n",
       "      <td>1.999990e+05</td>\n",
       "      <td>199999.000000</td>\n",
       "      <td>199999.000000</td>\n",
       "      <td>199999.000000</td>\n",
       "      <td>199999.000000</td>\n",
       "      <td>199999.000000</td>\n",
       "      <td>199999.000000</td>\n",
       "    </tr>\n",
       "    <tr>\n",
       "      <th>mean</th>\n",
       "      <td>2.771248e+07</td>\n",
       "      <td>11.359892</td>\n",
       "      <td>-72.527631</td>\n",
       "      <td>39.935881</td>\n",
       "      <td>-72.525292</td>\n",
       "      <td>39.923890</td>\n",
       "      <td>1.684543</td>\n",
       "    </tr>\n",
       "    <tr>\n",
       "      <th>std</th>\n",
       "      <td>1.601386e+07</td>\n",
       "      <td>9.901760</td>\n",
       "      <td>11.437815</td>\n",
       "      <td>7.720558</td>\n",
       "      <td>13.117408</td>\n",
       "      <td>6.794829</td>\n",
       "      <td>1.385995</td>\n",
       "    </tr>\n",
       "    <tr>\n",
       "      <th>min</th>\n",
       "      <td>1.000000e+00</td>\n",
       "      <td>-52.000000</td>\n",
       "      <td>-1340.648410</td>\n",
       "      <td>-74.015515</td>\n",
       "      <td>-3356.666300</td>\n",
       "      <td>-881.985513</td>\n",
       "      <td>0.000000</td>\n",
       "    </tr>\n",
       "    <tr>\n",
       "      <th>25%</th>\n",
       "      <td>1.382534e+07</td>\n",
       "      <td>6.000000</td>\n",
       "      <td>-73.992065</td>\n",
       "      <td>40.734796</td>\n",
       "      <td>-73.991407</td>\n",
       "      <td>40.733823</td>\n",
       "      <td>1.000000</td>\n",
       "    </tr>\n",
       "    <tr>\n",
       "      <th>50%</th>\n",
       "      <td>2.774524e+07</td>\n",
       "      <td>8.500000</td>\n",
       "      <td>-73.981823</td>\n",
       "      <td>40.752592</td>\n",
       "      <td>-73.980093</td>\n",
       "      <td>40.753042</td>\n",
       "      <td>1.000000</td>\n",
       "    </tr>\n",
       "    <tr>\n",
       "      <th>75%</th>\n",
       "      <td>4.155535e+07</td>\n",
       "      <td>12.500000</td>\n",
       "      <td>-73.967154</td>\n",
       "      <td>40.767158</td>\n",
       "      <td>-73.963659</td>\n",
       "      <td>40.768001</td>\n",
       "      <td>2.000000</td>\n",
       "    </tr>\n",
       "    <tr>\n",
       "      <th>max</th>\n",
       "      <td>5.542357e+07</td>\n",
       "      <td>499.000000</td>\n",
       "      <td>57.418457</td>\n",
       "      <td>1644.421482</td>\n",
       "      <td>1153.572603</td>\n",
       "      <td>872.697628</td>\n",
       "      <td>208.000000</td>\n",
       "    </tr>\n",
       "  </tbody>\n",
       "</table>\n",
       "</div>"
      ],
      "text/plain": [
       "            ride_id    fare_amount  pickup_longitude  pickup_latitude  \\\n",
       "count  1.999990e+05  199999.000000     199999.000000    199999.000000   \n",
       "mean   2.771248e+07      11.359892        -72.527631        39.935881   \n",
       "std    1.601386e+07       9.901760         11.437815         7.720558   \n",
       "min    1.000000e+00     -52.000000      -1340.648410       -74.015515   \n",
       "25%    1.382534e+07       6.000000        -73.992065        40.734796   \n",
       "50%    2.774524e+07       8.500000        -73.981823        40.752592   \n",
       "75%    4.155535e+07      12.500000        -73.967154        40.767158   \n",
       "max    5.542357e+07     499.000000         57.418457      1644.421482   \n",
       "\n",
       "       dropoff_longitude  dropoff_latitude  passenger_count  \n",
       "count      199999.000000     199999.000000    199999.000000  \n",
       "mean          -72.525292         39.923890         1.684543  \n",
       "std            13.117408          6.794829         1.385995  \n",
       "min         -3356.666300       -881.985513         0.000000  \n",
       "25%           -73.991407         40.733823         1.000000  \n",
       "50%           -73.980093         40.753042         1.000000  \n",
       "75%           -73.963659         40.768001         2.000000  \n",
       "max          1153.572603        872.697628       208.000000  "
      ]
     },
     "execution_count": 88,
     "metadata": {},
     "output_type": "execute_result"
    }
   ],
   "source": [
    "df.describe()"
   ]
  },
  {
   "cell_type": "markdown",
   "id": "a7337b1e",
   "metadata": {},
   "source": [
    "## haversine distance\n",
    "        The haversine formula determines the great-circle distance between two points on a sphere given their longitudes and latitudes. Important in navigation, it is a special case of a more general formula in spherical trigonometry, the law of haversines, that relates the sides and angles of spherical triangles."
   ]
  },
  {
   "cell_type": "code",
   "execution_count": 90,
   "id": "fb2a26b9",
   "metadata": {},
   "outputs": [
    {
     "name": "stdout",
     "output_type": "stream",
     "text": [
      "Median Haversine Distance: 2.1209923961833708 kilometers\n"
     ]
    }
   ],
   "source": [
    "import math\n",
    "def haversine(lat1, lon1, lat2, lon2):\n",
    "    # Convert latitude and longitude from degrees to radians\n",
    "    lat1 = math.radians(lat1)\n",
    "    lon1 = math.radians(lon1)\n",
    "    lat2 = math.radians(lat2)\n",
    "    lon2 = math.radians(lon2)\n",
    "    R = 6371.0\n",
    "    dlon = lon2 - lon1\n",
    "    dlat = lat2 - lat1\n",
    "    a = math.sin(dlat / 2)**2 + math.cos(lat1) * math.cos(lat2) * math.sin(dlon / 2)**2\n",
    "    c = 2 * math.atan2(math.sqrt(a), math.sqrt(1 - a))\n",
    "    distance = R * c\n",
    "    return distance\n",
    "# Calculate Haversine distances for each row in the dataset\n",
    "df['haversine_distance'] = df.apply(lambda row: haversine(row['pickup_latitude'], row['pickup_longitude'], row['dropoff_latitude'], row['dropoff_longitude']), axis=1)\n",
    "# Calculate the median Haversine distance\n",
    "median_distance = df['haversine_distance'].median()\n",
    "\n",
    "print(f\"Median Haversine Distance: {median_distance} kilometers\")"
   ]
  },
  {
   "cell_type": "code",
   "execution_count": 91,
   "id": "8a447be7",
   "metadata": {},
   "outputs": [],
   "source": [
    "# Find the maximum Haversine distance\n",
    "max_distance_trip = df[df['haversine_distance'] == df['haversine_distance'].max()]\n"
   ]
  },
  {
   "cell_type": "code",
   "execution_count": 92,
   "id": "97cc1f60",
   "metadata": {},
   "outputs": [
    {
     "data": {
      "text/html": [
       "<div>\n",
       "<style scoped>\n",
       "    .dataframe tbody tr th:only-of-type {\n",
       "        vertical-align: middle;\n",
       "    }\n",
       "\n",
       "    .dataframe tbody tr th {\n",
       "        vertical-align: top;\n",
       "    }\n",
       "\n",
       "    .dataframe thead th {\n",
       "        text-align: right;\n",
       "    }\n",
       "</style>\n",
       "<table border=\"1\" class=\"dataframe\">\n",
       "  <thead>\n",
       "    <tr style=\"text-align: right;\">\n",
       "      <th></th>\n",
       "      <th>ride_id</th>\n",
       "      <th>fare_amount</th>\n",
       "      <th>pickup_datetime</th>\n",
       "      <th>pickup_longitude</th>\n",
       "      <th>pickup_latitude</th>\n",
       "      <th>dropoff_longitude</th>\n",
       "      <th>dropoff_latitude</th>\n",
       "      <th>passenger_count</th>\n",
       "      <th>haversine_distance</th>\n",
       "    </tr>\n",
       "  </thead>\n",
       "  <tbody>\n",
       "    <tr>\n",
       "      <th>75851</th>\n",
       "      <td>33249845</td>\n",
       "      <td>15.7</td>\n",
       "      <td>2011-11-05 00:22:00 UTC</td>\n",
       "      <td>-1340.64841</td>\n",
       "      <td>1644.421482</td>\n",
       "      <td>-3356.6663</td>\n",
       "      <td>872.697628</td>\n",
       "      <td>1</td>\n",
       "      <td>16409.239135</td>\n",
       "    </tr>\n",
       "  </tbody>\n",
       "</table>\n",
       "</div>"
      ],
      "text/plain": [
       "        ride_id  fare_amount          pickup_datetime  pickup_longitude  \\\n",
       "75851  33249845         15.7  2011-11-05 00:22:00 UTC       -1340.64841   \n",
       "\n",
       "       pickup_latitude  dropoff_longitude  dropoff_latitude  passenger_count  \\\n",
       "75851      1644.421482         -3356.6663        872.697628                1   \n",
       "\n",
       "       haversine_distance  \n",
       "75851        16409.239135  "
      ]
     },
     "execution_count": 92,
     "metadata": {},
     "output_type": "execute_result"
    }
   ],
   "source": [
    "max_distance_trip"
   ]
  },
  {
   "cell_type": "code",
   "execution_count": 93,
   "id": "dedd7bec",
   "metadata": {},
   "outputs": [
    {
     "name": "stdout",
     "output_type": "stream",
     "text": [
      "Maximum Haversine Distance: 16409.239135313168 kilometers\n",
      "Pickup Location (Lat, Lon): (1644.421482, -1340.64841)\n",
      "Dropoff Location (Lat, Lon): (872.697628, -3356.6663)\n"
     ]
    }
   ],
   "source": [
    "# Extract the maximum distance and corresponding trip details\n",
    "max_distance = max_distance_trip['haversine_distance'].values[0]\n",
    "pickup_lat = max_distance_trip['pickup_latitude'].values[0]\n",
    "pickup_lon = max_distance_trip['pickup_longitude'].values[0]\n",
    "dropoff_lat = max_distance_trip['dropoff_latitude'].values[0]\n",
    "dropoff_lon = max_distance_trip['dropoff_longitude'].values[0]\n",
    "\n",
    "print(f\"Maximum Haversine Distance: {max_distance} kilometers\")\n",
    "print(f\"Pickup Location (Lat, Lon): ({pickup_lat}, {pickup_lon})\")\n",
    "print(f\"Dropoff Location (Lat, Lon): ({dropoff_lat}, {dropoff_lon})\")"
   ]
  },
  {
   "cell_type": "code",
   "execution_count": 94,
   "id": "f80ae3a5",
   "metadata": {},
   "outputs": [
    {
     "name": "stdout",
     "output_type": "stream",
     "text": [
      "Number of rides with 0.0 Haversine distance: 5632\n"
     ]
    }
   ],
   "source": [
    "zero_distance_rides = df[df['haversine_distance'] == 0.0]\n",
    "num_zero_distance_rides = len(zero_distance_rides)\n",
    "\n",
    "print(f\"Number of rides with 0.0 Haversine distance: {num_zero_distance_rides}\")"
   ]
  },
  {
   "cell_type": "markdown",
   "id": "ef8bcfe5",
   "metadata": {},
   "source": [
    "### mean fare amount between haversine distance=0"
   ]
  },
  {
   "cell_type": "code",
   "execution_count": 69,
   "id": "8d65673e",
   "metadata": {},
   "outputs": [
    {
     "name": "stdout",
     "output_type": "stream",
     "text": [
      "Mean fare amount for rides with 0.0 Haversine distance: 11.585317826704546\n"
     ]
    }
   ],
   "source": [
    "mean_fare_amount_for_zero_distance_rides = zero_distance_rides['fare_amount'].mean()\n",
    "\n",
    "print(f\"Mean fare amount for rides with 0.0 Haversine distance: {mean_fare_amount_for_zero_distance_rides}\")"
   ]
  },
  {
   "cell_type": "markdown",
   "id": "32b384b8",
   "metadata": {},
   "source": [
    "### maximum fare amount for a ride"
   ]
  },
  {
   "cell_type": "code",
   "execution_count": 95,
   "id": "d77b6130",
   "metadata": {},
   "outputs": [
    {
     "data": {
      "text/plain": [
       "499.0"
      ]
     },
     "execution_count": 95,
     "metadata": {},
     "output_type": "execute_result"
    }
   ],
   "source": [
    "df['fare_amount'].max()"
   ]
  },
  {
   "cell_type": "markdown",
   "id": "2feb061f",
   "metadata": {},
   "source": [
    "### Haversine Distance for the Costliest Ride:"
   ]
  },
  {
   "cell_type": "code",
   "execution_count": 96,
   "id": "d2152ded",
   "metadata": {},
   "outputs": [
    {
     "name": "stdout",
     "output_type": "stream",
     "text": [
      "Haversine Distance for the Costliest Ride: 0.0007899213191009994 kilometers\n"
     ]
    }
   ],
   "source": [
    "# Find the row with the highest fare amount\n",
    "costliest_ride = df[df['fare_amount'] == df['fare_amount'].max()]\n",
    "\n",
    "# Extract the pickup and dropoff coordinates for the costliest \n",
    "pickup_lat = costliest_ride['pickup_latitude'].values[0]\n",
    "pickup_lon = costliest_ride['pickup_longitude'].values[0]\n",
    "dropoff_lat = costliest_ride['dropoff_latitude'].values[0]\n",
    "dropoff_lon = costliest_ride['dropoff_longitude'].values[0]\n",
    "costliest_ride_distance = haversine(pickup_lat, pickup_lon, dropoff_lat, dropoff_lon)\n",
    "\n",
    "print(f\"Haversine Distance for the Costliest Ride: {costliest_ride_distance} kilometers\")\n"
   ]
  },
  {
   "cell_type": "code",
   "execution_count": 100,
   "id": "b5ca5c4b",
   "metadata": {},
   "outputs": [
    {
     "name": "stdout",
     "output_type": "stream",
     "text": [
      "Enter the year beween 2009 to 2015 2014\n",
      "Number of rides recorded in 2014: 29968\n"
     ]
    }
   ],
   "source": [
    "# Assuming your timestamp column is in datetime format, if not, you may need to convert it first.\n",
    "df['timestamp'] = pd.to_datetime(df['pickup_datetime'])\n",
    "\n",
    "# Specify the year you're interested in (e.g., 2014)\n",
    "target_year = int(input('Enter the year beween 2009 to 2015 '))\n",
    "\n",
    "# Filter the rides for the specified year\n",
    "rides_in_target_year = df[df['timestamp'].dt.year == target_year]\n",
    "\n",
    "# Count the number of rides in the specified year\n",
    "num_rides_in_target_year = len(rides_in_target_year)\n",
    "\n",
    "print(f\"Number of rides recorded in {target_year}: {num_rides_in_target_year}\")"
   ]
  },
  {
   "cell_type": "code",
   "execution_count": 101,
   "id": "e76a0eb5",
   "metadata": {},
   "outputs": [
    {
     "name": "stdout",
     "output_type": "stream",
     "text": [
      "Number of rides recorded in the first quarter of 2014: 7617\n"
     ]
    }
   ],
   "source": [
    "\n",
    "# Define the start and end dates for the first quarter of 2014\n",
    "start_date = '2014-01-01'\n",
    "end_date = '2014-03-31'\n",
    "\n",
    "# Filter the rides for the first quarter of 2014\n",
    "rides_in_first_quarter_2014 = df[(df['timestamp'] >= start_date) & (df['timestamp'] <= end_date)]\n",
    "# Count the number of rides in the first quarter of 2014\n",
    "num_rides_in_first_quarter_2014 = len(rides_in_first_quarter_2014)\n",
    "\n",
    "print(f\"Number of rides recorded in the first quarter of 2014: {num_rides_in_first_quarter_2014}\")\n"
   ]
  },
  {
   "cell_type": "markdown",
   "id": "842fd3da",
   "metadata": {},
   "source": [
    "### Finding the maximum ridings in which week day"
   ]
  },
  {
   "cell_type": "code",
   "execution_count": 102,
   "id": "b6de528a",
   "metadata": {},
   "outputs": [
    {
     "name": "stdout",
     "output_type": "stream",
     "text": [
      "On Thursday in September 2010, the maximum number of rides (457 rides) were recorded.\n"
     ]
    }
   ],
   "source": [
    "# Assuming your timestamp column is in datetime format, if not, you may need to convert it first.\n",
    "df['timestamp'] = pd.to_datetime(df['timestamp'])\n",
    "\n",
    "# Filter the dataset to include only rides in September 2010\n",
    "rides_in_september_2010 = df[(df['timestamp'].dt.year == 2010) & (df['timestamp'].dt.month == 9)]\n",
    "\n",
    "# Group the data by day of the week and count the number of rides for each day\n",
    "rides_by_day_of_week = rides_in_september_2010['timestamp'].dt.day_name().value_counts()\n",
    "# Find the day of the week with the maximum ride count\n",
    "max_rides_day = rides_by_day_of_week.idxmax()\n",
    "max_rides_count = rides_by_day_of_week[max_rides_day]\n",
    "\n",
    "print(f\"On {max_rides_day} in September 2010, the maximum number of rides ({max_rides_count} rides) were recorded.\")\n"
   ]
  },
  {
   "cell_type": "code",
   "execution_count": 105,
   "id": "b522d2f8",
   "metadata": {},
   "outputs": [],
   "source": [
    "# Convert 'pickup_datetime' column to datetime format\n",
    "df['pickup_datetime'] = pd.to_datetime(df['pickup_datetime'])\n",
    "\n",
    "# Extract the day of the week as a string (e.g., Monday, Tuesday, etc.)\n",
    "df['pickup_week_day'] = df['pickup_datetime'].dt.strftime('%A')\n"
   ]
  },
  {
   "cell_type": "code",
   "execution_count": 106,
   "id": "3d97a455",
   "metadata": {},
   "outputs": [
    {
     "data": {
      "text/html": [
       "<div>\n",
       "<style scoped>\n",
       "    .dataframe tbody tr th:only-of-type {\n",
       "        vertical-align: middle;\n",
       "    }\n",
       "\n",
       "    .dataframe tbody tr th {\n",
       "        vertical-align: top;\n",
       "    }\n",
       "\n",
       "    .dataframe thead th {\n",
       "        text-align: right;\n",
       "    }\n",
       "</style>\n",
       "<table border=\"1\" class=\"dataframe\">\n",
       "  <thead>\n",
       "    <tr style=\"text-align: right;\">\n",
       "      <th></th>\n",
       "      <th>ride_id</th>\n",
       "      <th>fare_amount</th>\n",
       "      <th>pickup_datetime</th>\n",
       "      <th>pickup_longitude</th>\n",
       "      <th>pickup_latitude</th>\n",
       "      <th>dropoff_longitude</th>\n",
       "      <th>dropoff_latitude</th>\n",
       "      <th>passenger_count</th>\n",
       "      <th>haversine_distance</th>\n",
       "      <th>timestamp</th>\n",
       "      <th>pickup_datetimes</th>\n",
       "      <th>pickup_week_day</th>\n",
       "    </tr>\n",
       "  </thead>\n",
       "  <tbody>\n",
       "    <tr>\n",
       "      <th>0</th>\n",
       "      <td>24238194</td>\n",
       "      <td>7.5</td>\n",
       "      <td>2015-05-07 19:52:06+00:00</td>\n",
       "      <td>-73.999817</td>\n",
       "      <td>40.738354</td>\n",
       "      <td>-73.999512</td>\n",
       "      <td>40.723217</td>\n",
       "      <td>1</td>\n",
       "      <td>1.683323</td>\n",
       "      <td>2015-05-07 19:52:06+00:00</td>\n",
       "      <td>2015-05-07 19:52:06+00:00</td>\n",
       "      <td>Thursday</td>\n",
       "    </tr>\n",
       "    <tr>\n",
       "      <th>1</th>\n",
       "      <td>27835199</td>\n",
       "      <td>7.7</td>\n",
       "      <td>2009-07-17 20:04:56+00:00</td>\n",
       "      <td>-73.994355</td>\n",
       "      <td>40.728225</td>\n",
       "      <td>-73.994710</td>\n",
       "      <td>40.750325</td>\n",
       "      <td>1</td>\n",
       "      <td>2.457590</td>\n",
       "      <td>2009-07-17 20:04:56+00:00</td>\n",
       "      <td>2009-07-17 20:04:56+00:00</td>\n",
       "      <td>Friday</td>\n",
       "    </tr>\n",
       "    <tr>\n",
       "      <th>2</th>\n",
       "      <td>44984355</td>\n",
       "      <td>12.9</td>\n",
       "      <td>2009-08-24 21:45:00+00:00</td>\n",
       "      <td>-74.005043</td>\n",
       "      <td>40.740770</td>\n",
       "      <td>-73.962565</td>\n",
       "      <td>40.772647</td>\n",
       "      <td>1</td>\n",
       "      <td>5.036377</td>\n",
       "      <td>2009-08-24 21:45:00+00:00</td>\n",
       "      <td>2009-08-24 21:45:00+00:00</td>\n",
       "      <td>Monday</td>\n",
       "    </tr>\n",
       "    <tr>\n",
       "      <th>3</th>\n",
       "      <td>25894730</td>\n",
       "      <td>5.3</td>\n",
       "      <td>2009-06-26 08:22:21+00:00</td>\n",
       "      <td>-73.976124</td>\n",
       "      <td>40.790844</td>\n",
       "      <td>-73.965316</td>\n",
       "      <td>40.803349</td>\n",
       "      <td>3</td>\n",
       "      <td>1.661683</td>\n",
       "      <td>2009-06-26 08:22:21+00:00</td>\n",
       "      <td>2009-06-26 08:22:21+00:00</td>\n",
       "      <td>Friday</td>\n",
       "    </tr>\n",
       "    <tr>\n",
       "      <th>4</th>\n",
       "      <td>17610152</td>\n",
       "      <td>16.0</td>\n",
       "      <td>2014-08-28 17:47:00+00:00</td>\n",
       "      <td>-73.925023</td>\n",
       "      <td>40.744085</td>\n",
       "      <td>-73.973082</td>\n",
       "      <td>40.761247</td>\n",
       "      <td>5</td>\n",
       "      <td>4.475450</td>\n",
       "      <td>2014-08-28 17:47:00+00:00</td>\n",
       "      <td>2014-08-28 17:47:00+00:00</td>\n",
       "      <td>Thursday</td>\n",
       "    </tr>\n",
       "    <tr>\n",
       "      <th>...</th>\n",
       "      <td>...</td>\n",
       "      <td>...</td>\n",
       "      <td>...</td>\n",
       "      <td>...</td>\n",
       "      <td>...</td>\n",
       "      <td>...</td>\n",
       "      <td>...</td>\n",
       "      <td>...</td>\n",
       "      <td>...</td>\n",
       "      <td>...</td>\n",
       "      <td>...</td>\n",
       "      <td>...</td>\n",
       "    </tr>\n",
       "    <tr>\n",
       "      <th>199995</th>\n",
       "      <td>42598914</td>\n",
       "      <td>3.0</td>\n",
       "      <td>2012-10-28 10:49:00+00:00</td>\n",
       "      <td>-73.987042</td>\n",
       "      <td>40.739367</td>\n",
       "      <td>-73.986525</td>\n",
       "      <td>40.740297</td>\n",
       "      <td>1</td>\n",
       "      <td>0.112210</td>\n",
       "      <td>2012-10-28 10:49:00+00:00</td>\n",
       "      <td>2012-10-28 10:49:00+00:00</td>\n",
       "      <td>Sunday</td>\n",
       "    </tr>\n",
       "    <tr>\n",
       "      <th>199996</th>\n",
       "      <td>16382965</td>\n",
       "      <td>7.5</td>\n",
       "      <td>2014-03-14 01:09:00+00:00</td>\n",
       "      <td>-73.984722</td>\n",
       "      <td>40.736837</td>\n",
       "      <td>-74.006672</td>\n",
       "      <td>40.739620</td>\n",
       "      <td>1</td>\n",
       "      <td>1.875050</td>\n",
       "      <td>2014-03-14 01:09:00+00:00</td>\n",
       "      <td>2014-03-14 01:09:00+00:00</td>\n",
       "      <td>Friday</td>\n",
       "    </tr>\n",
       "    <tr>\n",
       "      <th>199997</th>\n",
       "      <td>27804658</td>\n",
       "      <td>30.9</td>\n",
       "      <td>2009-06-29 00:42:00+00:00</td>\n",
       "      <td>-73.986017</td>\n",
       "      <td>40.756487</td>\n",
       "      <td>-73.858957</td>\n",
       "      <td>40.692588</td>\n",
       "      <td>2</td>\n",
       "      <td>12.850319</td>\n",
       "      <td>2009-06-29 00:42:00+00:00</td>\n",
       "      <td>2009-06-29 00:42:00+00:00</td>\n",
       "      <td>Monday</td>\n",
       "    </tr>\n",
       "    <tr>\n",
       "      <th>199998</th>\n",
       "      <td>20259894</td>\n",
       "      <td>14.5</td>\n",
       "      <td>2015-05-20 14:56:25+00:00</td>\n",
       "      <td>-73.997124</td>\n",
       "      <td>40.725452</td>\n",
       "      <td>-73.983215</td>\n",
       "      <td>40.695416</td>\n",
       "      <td>1</td>\n",
       "      <td>3.539715</td>\n",
       "      <td>2015-05-20 14:56:25+00:00</td>\n",
       "      <td>2015-05-20 14:56:25+00:00</td>\n",
       "      <td>Wednesday</td>\n",
       "    </tr>\n",
       "    <tr>\n",
       "      <th>199999</th>\n",
       "      <td>11951496</td>\n",
       "      <td>14.1</td>\n",
       "      <td>2010-05-15 04:08:00+00:00</td>\n",
       "      <td>-73.984395</td>\n",
       "      <td>40.720077</td>\n",
       "      <td>-73.985508</td>\n",
       "      <td>40.768793</td>\n",
       "      <td>1</td>\n",
       "      <td>5.417783</td>\n",
       "      <td>2010-05-15 04:08:00+00:00</td>\n",
       "      <td>2010-05-15 04:08:00+00:00</td>\n",
       "      <td>Saturday</td>\n",
       "    </tr>\n",
       "  </tbody>\n",
       "</table>\n",
       "<p>199999 rows × 12 columns</p>\n",
       "</div>"
      ],
      "text/plain": [
       "         ride_id  fare_amount           pickup_datetime  pickup_longitude  \\\n",
       "0       24238194          7.5 2015-05-07 19:52:06+00:00        -73.999817   \n",
       "1       27835199          7.7 2009-07-17 20:04:56+00:00        -73.994355   \n",
       "2       44984355         12.9 2009-08-24 21:45:00+00:00        -74.005043   \n",
       "3       25894730          5.3 2009-06-26 08:22:21+00:00        -73.976124   \n",
       "4       17610152         16.0 2014-08-28 17:47:00+00:00        -73.925023   \n",
       "...          ...          ...                       ...               ...   \n",
       "199995  42598914          3.0 2012-10-28 10:49:00+00:00        -73.987042   \n",
       "199996  16382965          7.5 2014-03-14 01:09:00+00:00        -73.984722   \n",
       "199997  27804658         30.9 2009-06-29 00:42:00+00:00        -73.986017   \n",
       "199998  20259894         14.5 2015-05-20 14:56:25+00:00        -73.997124   \n",
       "199999  11951496         14.1 2010-05-15 04:08:00+00:00        -73.984395   \n",
       "\n",
       "        pickup_latitude  dropoff_longitude  dropoff_latitude  passenger_count  \\\n",
       "0             40.738354         -73.999512         40.723217                1   \n",
       "1             40.728225         -73.994710         40.750325                1   \n",
       "2             40.740770         -73.962565         40.772647                1   \n",
       "3             40.790844         -73.965316         40.803349                3   \n",
       "4             40.744085         -73.973082         40.761247                5   \n",
       "...                 ...                ...               ...              ...   \n",
       "199995        40.739367         -73.986525         40.740297                1   \n",
       "199996        40.736837         -74.006672         40.739620                1   \n",
       "199997        40.756487         -73.858957         40.692588                2   \n",
       "199998        40.725452         -73.983215         40.695416                1   \n",
       "199999        40.720077         -73.985508         40.768793                1   \n",
       "\n",
       "        haversine_distance                 timestamp  \\\n",
       "0                 1.683323 2015-05-07 19:52:06+00:00   \n",
       "1                 2.457590 2009-07-17 20:04:56+00:00   \n",
       "2                 5.036377 2009-08-24 21:45:00+00:00   \n",
       "3                 1.661683 2009-06-26 08:22:21+00:00   \n",
       "4                 4.475450 2014-08-28 17:47:00+00:00   \n",
       "...                    ...                       ...   \n",
       "199995            0.112210 2012-10-28 10:49:00+00:00   \n",
       "199996            1.875050 2014-03-14 01:09:00+00:00   \n",
       "199997           12.850319 2009-06-29 00:42:00+00:00   \n",
       "199998            3.539715 2015-05-20 14:56:25+00:00   \n",
       "199999            5.417783 2010-05-15 04:08:00+00:00   \n",
       "\n",
       "                pickup_datetimes pickup_week_day  \n",
       "0      2015-05-07 19:52:06+00:00        Thursday  \n",
       "1      2009-07-17 20:04:56+00:00          Friday  \n",
       "2      2009-08-24 21:45:00+00:00          Monday  \n",
       "3      2009-06-26 08:22:21+00:00          Friday  \n",
       "4      2014-08-28 17:47:00+00:00        Thursday  \n",
       "...                          ...             ...  \n",
       "199995 2012-10-28 10:49:00+00:00          Sunday  \n",
       "199996 2014-03-14 01:09:00+00:00          Friday  \n",
       "199997 2009-06-29 00:42:00+00:00          Monday  \n",
       "199998 2015-05-20 14:56:25+00:00       Wednesday  \n",
       "199999 2010-05-15 04:08:00+00:00        Saturday  \n",
       "\n",
       "[199999 rows x 12 columns]"
      ]
     },
     "execution_count": 106,
     "metadata": {},
     "output_type": "execute_result"
    }
   ],
   "source": [
    "df"
   ]
  },
  {
   "cell_type": "code",
   "execution_count": 118,
   "id": "72a06f65",
   "metadata": {},
   "outputs": [
    {
     "data": {
      "image/png": "[encoded data removed]",
      "text/plain": [
       "<Figure size 640x480 with 1 Axes>"
      ]
     },
     "metadata": {},
     "output_type": "display_data"
    }
   ],
   "source": [
    "x=df['passenger_count'].value_counts()[:7]\n",
    "y=df['passenger_count'].value_counts()[:7].index\n",
    "plt.xlabel(\"no_of_passengers\")\n",
    "plt.ylabel(\"no_of_rides\")\n",
    "plt.title(\"No_of Passengers with most rides\")\n",
    "plt.bar(y,x)\n",
    "plt.show()"
   ]
  },
  {
   "cell_type": "code",
   "execution_count": 125,
   "id": "0eb1c504",
   "metadata": {},
   "outputs": [
    {
     "data": {
      "image/png": "[encoded data removed]",
      "text/plain": [
       "<Figure size 640x480 with 1 Axes>"
      ]
     },
     "metadata": {},
     "output_type": "display_data"
    }
   ],
   "source": [
    "sns.boxplot(data=df)\n",
    "plt.xticks(rotation=90)\n",
    "plt.show()"
   ]
  },
  {
   "cell_type": "code",
   "execution_count": 137,
   "id": "73190464",
   "metadata": {},
   "outputs": [
    {
     "data": {
      "image/png": "[encoded data removed]",
      "text/plain": [
       "<Figure size 640x480 with 1 Axes>"
      ]
     },
     "metadata": {},
     "output_type": "display_data"
    }
   ],
   "source": [
    "sns.countplot(data=df,x='pickup_week_day')\n",
    "plt.show()"
   ]
  },
  {
   "cell_type": "markdown",
   "id": "c8cb2f6e",
   "metadata": {},
   "source": [
    "### Finding best ML model"
   ]
  },
  {
   "cell_type": "code",
   "execution_count": 107,
   "id": "d18182c9",
   "metadata": {},
   "outputs": [
    {
     "name": "stdout",
     "output_type": "stream",
     "text": [
      "Best Model (adjusted R-squared): Pipeline(steps=[('preprocessor',\n",
      "                 ColumnTransformer(transformers=[('cat',\n",
      "                                                  Pipeline(steps=[('onehot',\n",
      "                                                                   OneHotEncoder(handle_unknown='ignore'))]),\n",
      "                                                  ['pickup_week_day'])])),\n",
      "                ('regressor', LinearRegression())])\n",
      "Adjusted R-squared: 0.00035187985887363826\n"
     ]
    }
   ],
   "source": [
    "\n",
    "from sklearn.model_selection import train_test_split\n",
    "from sklearn.linear_model import LinearRegression\n",
    "from sklearn.tree import DecisionTreeRegressor\n",
    "from sklearn.ensemble import RandomForestRegressor\n",
    "from sklearn.neighbors import KNeighborsRegressor\n",
    "from sklearn.metrics import r2_score\n",
    "from sklearn.preprocessing import LabelEncoder, OneHotEncoder\n",
    "from sklearn.compose import ColumnTransformer\n",
    "from sklearn.pipeline import Pipeline\n",
    "# Select relevant features and target\n",
    "X = df[['passenger_count', 'haversine_distance', 'pickup_week_day']]\n",
    "y = df['fare_amount']\n",
    "\n",
    "# Convert ride_week_day to categorical data (e.g., Monday, Tuesday, etc.)\n",
    "X['pickup_week_day'] = X['pickup_week_day'].astype('category')\n",
    "\n",
    "# Split the data into training and testing sets\n",
    "X_train, X_test, y_train, y_test = train_test_split(X, y, test_size=0.3, random_state=42)\n",
    "\n",
    "# Create a transformer to handle categorical features (one-hot encoding)\n",
    "categorical_features = ['pickup_week_day']\n",
    "categorical_transformer = Pipeline(steps=[\n",
    "    ('onehot', OneHotEncoder(handle_unknown='ignore'))\n",
    "])\n",
    "\n",
    "# Create a preprocessor that applies transformations to the data\n",
    "preprocessor = ColumnTransformer(\n",
    "    transformers=[\n",
    "        ('cat', categorical_transformer, categorical_features)\n",
    "    ])\n",
    "\n",
    "# Initialize models\n",
    "linear_reg_model = Pipeline(steps=[('preprocessor', preprocessor),\n",
    "                                    ('regressor', LinearRegression())])\n",
    "\n",
    "decision_tree_model = DecisionTreeRegressor(random_state=42)\n",
    "\n",
    "random_forest_model = RandomForestRegressor(random_state=42)\n",
    "\n",
    "knn_model = KNeighborsRegressor()\n",
    "\n",
    "# List of models\n",
    "models = [linear_reg_model, decision_tree_model, random_forest_model, knn_model]\n",
    "\n",
    "# Initialize variables to store results\n",
    "best_model = None\n",
    "best_adj_r2 = float('-inf')\n",
    "\n",
    "# Train and evaluate each model\n",
    "for model in models:\n",
    "    # If the model is not linear regression, apply preprocessing\n",
    "    if model != linear_reg_model:\n",
    "        model = Pipeline(steps=[('preprocessor', preprocessor), ('regressor', model)])\n",
    "\n",
    "    # Train the model\n",
    "    model.fit(X_train, y_train)\n",
    "\n",
    "    # Make predictions on the test data\n",
    "    y_pred = model.predict(X_test)\n",
    "\n",
    "    # Calculate R-squared value\n",
    "    r2 = r2_score(y_test, y_pred)\n",
    "\n",
    "    # Calculate adjusted R-squared value\n",
    "    n = len(y_test)\n",
    "    p = X_test.shape[1]\n",
    "    adj_r2 = 1 - ((1 - r2) * (n - 1) / (n - p - 1))\n",
    "\n",
    "    # Update best model if necessary\n",
    "    if adj_r2 > best_adj_r2:\n",
    "        best_adj_r2 = adj_r2\n",
    "        best_model = model\n",
    "\n",
    "print(f\"Best Model (adjusted R-squared): {best_model}\")\n",
    "print(f\"Adjusted R-squared: {best_adj_r2}\")\n"
   ]
  },
  {
   "cell_type": "code",
   "execution_count": 144,
   "id": "31364b3c",
   "metadata": {},
   "outputs": [
    {
     "data": {
      "text/plain": [
       "'C:\\\\Users\\\\nikhil'"
      ]
     },
     "execution_count": 144,
     "metadata": {},
     "output_type": "execute_result"
    }
   ],
   "source": [
    "import os \n",
    "os.getcwd()"
   ]
  },
  {
   "cell_type": "code",
   "execution_count": null,
   "id": "c2c49675",
   "metadata": {},
   "outputs": [],
   "source": []
  }
 ],
 "metadata": {
  "kernelspec": {
   "display_name": "Python 3 (ipykernel)",
   "language": "python",
   "name": "python3"
  },
  "language_info": {
   "codemirror_mode": {
    "name": "ipython",
    "version": 3
   },
   "file_extension": ".py",
   "mimetype": "text/x-python",
   "name": "python",
   "nbconvert_exporter": "python",
   "pygments_lexer": "ipython3",
   "version": "3.11.3"
  }
 },
 "nbformat": 4,
 "nbformat_minor": 5
}
